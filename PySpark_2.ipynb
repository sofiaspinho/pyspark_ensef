{
  "cells": [
    {
      "cell_type": "markdown",
      "source": [
        "# Dia 2 (08/08/2025)"
      ],
      "metadata": {
        "id": "wCL3R8vbi2jb"
      }
    },
    {
      "cell_type": "code",
      "source": [
        "!pip --quiet install pyspark kagglehub"
      ],
      "metadata": {
        "id": "7787lUKNrbOG"
      },
      "execution_count": 1,
      "outputs": []
    },
    {
      "cell_type": "code",
      "source": [
        "from pyspark.sql import SparkSession\n",
        "from pyspark.ml.feature import VectorAssembler, StandardScaler\n",
        "from pyspark.ml.classification import RandomForestClassifier\n",
        "from pyspark.ml import Pipeline\n",
        "from pyspark.ml.evaluation import BinaryClassificationEvaluator\n",
        "from pyspark.sql.functions import col\n",
        "import kagglehub"
      ],
      "metadata": {
        "id": "kCkQqYaIrj4V"
      },
      "execution_count": 2,
      "outputs": []
    },
    {
      "cell_type": "code",
      "source": [
        "spark = SparkSession.builder.appName(\"FraudDetection\").getOrCreate()"
      ],
      "metadata": {
        "id": "Jm3ukaXSrmnf"
      },
      "execution_count": 3,
      "outputs": []
    },
    {
      "cell_type": "markdown",
      "metadata": {
        "id": "MmePKouNrQbq"
      },
      "source": [
        "## 1. Carregando os Dados"
      ]
    },
    {
      "cell_type": "code",
      "source": [
        "path = kagglehub.dataset_download(\"mlg-ulb/creditcardfraud\")\n",
        "\n",
        "print(\"Path to dataset files:\", path)\n",
        "\n",
        "csv_file = f\"{path}/creditcard.csv\"\n",
        "print(\"CSV file:\", csv_file)"
      ],
      "metadata": {
        "colab": {
          "base_uri": "https://localhost:8080/"
        },
        "id": "ppgnsAwbrfij",
        "outputId": "7f9c2e21-928c-41b8-d1f7-c0a1593fc867"
      },
      "execution_count": 4,
      "outputs": [
        {
          "output_type": "stream",
          "name": "stdout",
          "text": [
            "Path to dataset files: /kaggle/input/creditcardfraud\n",
            "CSV file: /kaggle/input/creditcardfraud/creditcard.csv\n"
          ]
        }
      ]
    },
    {
      "cell_type": "code",
      "source": [
        "import kagglehub\n",
        "\n",
        "# Download latest version\n",
        "path = kagglehub.dataset_download(\"mlg-ulb/creditcardfraud\")\n",
        "\n",
        "print(\"Path to dataset files:\", path)"
      ],
      "metadata": {
        "colab": {
          "base_uri": "https://localhost:8080/"
        },
        "id": "SwZoRrFZjfQy",
        "outputId": "26dd6434-7f9d-4c21-e838-ed67db9fbe27"
      },
      "execution_count": 6,
      "outputs": [
        {
          "output_type": "stream",
          "name": "stdout",
          "text": [
            "Path to dataset files: /kaggle/input/creditcardfraud\n"
          ]
        }
      ]
    },
    {
      "cell_type": "code",
      "source": [
        "try:\n",
        "  df_csv = spark.read.csv(\n",
        "      csv_file,\n",
        "      header=True,\n",
        "      inferSchema=True\n",
        "  )\n",
        "  print(\"Dataframe criado com sucesso!\")\n",
        "  print(\"Schema do dataframe:\")\n",
        "  df_csv.printSchema()\n",
        "  print(\"Primeiras 5 linhas do dataframe:\")\n",
        "  df_csv.show(5)\n",
        "except Exception as e:\n",
        "  print(e)"
      ],
      "metadata": {
        "colab": {
          "base_uri": "https://localhost:8080/"
        },
        "id": "ihI94GDXrpv1",
        "outputId": "8d66bb20-d2dd-4156-b12f-012fe03a2c79"
      },
      "execution_count": 8,
      "outputs": [
        {
          "output_type": "stream",
          "name": "stdout",
          "text": [
            "Dataframe criado com sucesso!\n",
            "Schema do dataframe:\n",
            "root\n",
            " |-- Time: double (nullable = true)\n",
            " |-- V1: double (nullable = true)\n",
            " |-- V2: double (nullable = true)\n",
            " |-- V3: double (nullable = true)\n",
            " |-- V4: double (nullable = true)\n",
            " |-- V5: double (nullable = true)\n",
            " |-- V6: double (nullable = true)\n",
            " |-- V7: double (nullable = true)\n",
            " |-- V8: double (nullable = true)\n",
            " |-- V9: double (nullable = true)\n",
            " |-- V10: double (nullable = true)\n",
            " |-- V11: double (nullable = true)\n",
            " |-- V12: double (nullable = true)\n",
            " |-- V13: double (nullable = true)\n",
            " |-- V14: double (nullable = true)\n",
            " |-- V15: double (nullable = true)\n",
            " |-- V16: double (nullable = true)\n",
            " |-- V17: double (nullable = true)\n",
            " |-- V18: double (nullable = true)\n",
            " |-- V19: double (nullable = true)\n",
            " |-- V20: double (nullable = true)\n",
            " |-- V21: double (nullable = true)\n",
            " |-- V22: double (nullable = true)\n",
            " |-- V23: double (nullable = true)\n",
            " |-- V24: double (nullable = true)\n",
            " |-- V25: double (nullable = true)\n",
            " |-- V26: double (nullable = true)\n",
            " |-- V27: double (nullable = true)\n",
            " |-- V28: double (nullable = true)\n",
            " |-- Amount: double (nullable = true)\n",
            " |-- Class: integer (nullable = true)\n",
            "\n",
            "Primeiras 5 linhas do dataframe:\n",
            "+----+------------------+-------------------+----------------+------------------+-------------------+-------------------+-------------------+------------------+------------------+-------------------+------------------+------------------+------------------+------------------+------------------+------------------+------------------+-------------------+------------------+-------------------+--------------------+-------------------+------------------+------------------+------------------+------------------+--------------------+-------------------+------+-----+\n",
            "|Time|                V1|                 V2|              V3|                V4|                 V5|                 V6|                 V7|                V8|                V9|                V10|               V11|               V12|               V13|               V14|               V15|               V16|               V17|                V18|               V19|                V20|                 V21|                V22|               V23|               V24|               V25|               V26|                 V27|                V28|Amount|Class|\n",
            "+----+------------------+-------------------+----------------+------------------+-------------------+-------------------+-------------------+------------------+------------------+-------------------+------------------+------------------+------------------+------------------+------------------+------------------+------------------+-------------------+------------------+-------------------+--------------------+-------------------+------------------+------------------+------------------+------------------+--------------------+-------------------+------+-----+\n",
            "| 0.0|  -1.3598071336738|-0.0727811733098497|2.53634673796914|  1.37815522427443| -0.338320769942518|  0.462387777762292|  0.239598554061257|0.0986979012610507| 0.363786969611213| 0.0907941719789316|-0.551599533260813|-0.617800855762348|-0.991389847235408|-0.311169353699879|  1.46817697209427|-0.470400525259478| 0.207971241929242| 0.0257905801985591| 0.403992960255733|  0.251412098239705|  -0.018306777944153|  0.277837575558899|-0.110473910188767|0.0669280749146731| 0.128539358273528|-0.189114843888824|   0.133558376740387|-0.0210530534538215|149.62|    0|\n",
            "| 0.0|  1.19185711131486|   0.26615071205963|0.16648011335321| 0.448154078460911| 0.0600176492822243|-0.0823608088155687|-0.0788029833323113|0.0851016549148104|-0.255425128109186| -0.166974414004614|  1.61272666105479|  1.06523531137287|  0.48909501589608|-0.143772296441519| 0.635558093258208| 0.463917041022171|-0.114804663102346| -0.183361270123994|-0.145783041325259|-0.0690831352230203|  -0.225775248033138| -0.638671952771851| 0.101288021253234|-0.339846475529127| 0.167170404418143| 0.125894532368176|-0.00898309914322813| 0.0147241691924927|  2.69|    0|\n",
            "| 1.0| -1.35835406159823|  -1.34016307473609|1.77320934263119| 0.379779593034328| -0.503198133318193|   1.80049938079263|  0.791460956450422| 0.247675786588991| -1.51465432260583|  0.207642865216696| 0.624501459424895| 0.066083685268831| 0.717292731410831|-0.165945922763554|  2.34586494901581| -2.89008319444231|  1.10996937869599| -0.121359313195888| -2.26185709530414|  0.524979725224404|   0.247998153469754|  0.771679401917229| 0.909412262347719|-0.689280956490685|-0.327641833735251|-0.139096571514147| -0.0553527940384261|-0.0597518405929204|378.66|    0|\n",
            "| 1.0|-0.966271711572087| -0.185226008082898|1.79299333957872|-0.863291275036453|-0.0103088796030823|   1.24720316752486|   0.23760893977178| 0.377435874652262| -1.38702406270197|-0.0549519224713749|-0.226487263835401| 0.178228225877303| 0.507756869957169| -0.28792374549456|-0.631418117709045|  -1.0596472454325|-0.684092786345479|   1.96577500349538|  -1.2326219700892| -0.208037781160366|  -0.108300452035545|0.00527359678253453|-0.190320518742841| -1.17557533186321| 0.647376034602038|-0.221928844458407|  0.0627228487293033| 0.0614576285006353| 123.5|    0|\n",
            "| 2.0| -1.15823309349523|  0.877736754848451|  1.548717846511| 0.403033933955121| -0.407193377311653| 0.0959214624684256|  0.592940745385545|-0.270532677192282| 0.817739308235294|  0.753074431976354|-0.822842877946363|  0.53819555014995|   1.3458515932154| -1.11966983471731| 0.175121130008994|-0.451449182813529|-0.237033239362776|-0.0381947870352842| 0.803486924960175|  0.408542360392758|-0.00943069713232919|   0.79827849458971|-0.137458079619063| 0.141266983824769|-0.206009587619756| 0.502292224181569|   0.219422229513348|  0.215153147499206| 69.99|    0|\n",
            "+----+------------------+-------------------+----------------+------------------+-------------------+-------------------+-------------------+------------------+------------------+-------------------+------------------+------------------+------------------+------------------+------------------+------------------+------------------+-------------------+------------------+-------------------+--------------------+-------------------+------------------+------------------+------------------+------------------+--------------------+-------------------+------+-----+\n",
            "only showing top 5 rows\n",
            "\n"
          ]
        }
      ]
    },
    {
      "cell_type": "code",
      "source": [
        "# Define o caminho de saída para o arquivo Parquet em um diretório gravável\n",
        "parquet_output_path = \"/content/creditcard.parquet\"\n",
        "\n",
        "# Escreve o DataFrame no formato Parquet\n",
        "df_csv.write.parquet(parquet_output_path, mode=\"overwrite\")\n",
        "\n",
        "print(f\"Arquivo CSV convertido para Parquet e salvo em: {parquet_output_path}\")\n",
        "\n",
        "df = spark.read.parquet(parquet_output_path)"
      ],
      "metadata": {
        "colab": {
          "base_uri": "https://localhost:8080/"
        },
        "id": "uOuQLASWrsfq",
        "outputId": "93c6451a-6d9d-4fdb-9b09-10355b49e3e8"
      },
      "execution_count": 9,
      "outputs": [
        {
          "output_type": "stream",
          "name": "stdout",
          "text": [
            "Arquivo CSV convertido para Parquet e salvo em: /content/creditcard.parquet\n"
          ]
        }
      ]
    },
    {
      "cell_type": "markdown",
      "metadata": {
        "id": "3JaizdNLrQbr"
      },
      "source": [
        "## 2. EDA Básico"
      ]
    },
    {
      "cell_type": "code",
      "execution_count": 10,
      "metadata": {
        "colab": {
          "base_uri": "https://localhost:8080/"
        },
        "id": "0SxtFJCqrQbr",
        "outputId": "6c41d669-59d6-4b80-e997-c2b8cf16d2de"
      },
      "outputs": [
        {
          "output_type": "stream",
          "name": "stdout",
          "text": [
            "root\n",
            " |-- Time: double (nullable = true)\n",
            " |-- V1: double (nullable = true)\n",
            " |-- V2: double (nullable = true)\n",
            " |-- V3: double (nullable = true)\n",
            " |-- V4: double (nullable = true)\n",
            " |-- V5: double (nullable = true)\n",
            " |-- V6: double (nullable = true)\n",
            " |-- V7: double (nullable = true)\n",
            " |-- V8: double (nullable = true)\n",
            " |-- V9: double (nullable = true)\n",
            " |-- V10: double (nullable = true)\n",
            " |-- V11: double (nullable = true)\n",
            " |-- V12: double (nullable = true)\n",
            " |-- V13: double (nullable = true)\n",
            " |-- V14: double (nullable = true)\n",
            " |-- V15: double (nullable = true)\n",
            " |-- V16: double (nullable = true)\n",
            " |-- V17: double (nullable = true)\n",
            " |-- V18: double (nullable = true)\n",
            " |-- V19: double (nullable = true)\n",
            " |-- V20: double (nullable = true)\n",
            " |-- V21: double (nullable = true)\n",
            " |-- V22: double (nullable = true)\n",
            " |-- V23: double (nullable = true)\n",
            " |-- V24: double (nullable = true)\n",
            " |-- V25: double (nullable = true)\n",
            " |-- V26: double (nullable = true)\n",
            " |-- V27: double (nullable = true)\n",
            " |-- V28: double (nullable = true)\n",
            " |-- Amount: double (nullable = true)\n",
            " |-- Class: integer (nullable = true)\n",
            "\n",
            "+-------+------------------+--------------------+--------------------+--------------------+--------------------+--------------------+--------------------+--------------------+--------------------+--------------------+--------------------+--------------------+--------------------+--------------------+--------------------+--------------------+--------------------+--------------------+--------------------+--------------------+--------------------+--------------------+--------------------+--------------------+--------------------+--------------------+--------------------+--------------------+--------------------+------------------+--------------------+\n",
            "|summary|              Time|                  V1|                  V2|                  V3|                  V4|                  V5|                  V6|                  V7|                  V8|                  V9|                 V10|                 V11|                 V12|                 V13|                 V14|                 V15|                 V16|                 V17|                 V18|                 V19|                 V20|                 V21|                 V22|                 V23|                 V24|                 V25|                 V26|                 V27|                 V28|            Amount|               Class|\n",
            "+-------+------------------+--------------------+--------------------+--------------------+--------------------+--------------------+--------------------+--------------------+--------------------+--------------------+--------------------+--------------------+--------------------+--------------------+--------------------+--------------------+--------------------+--------------------+--------------------+--------------------+--------------------+--------------------+--------------------+--------------------+--------------------+--------------------+--------------------+--------------------+--------------------+------------------+--------------------+\n",
            "|  count|            284807|              284807|              284807|              284807|              284807|              284807|              284807|              284807|              284807|              284807|              284807|              284807|              284807|              284807|              284807|              284807|              284807|              284807|              284807|              284807|              284807|              284807|              284807|              284807|              284807|              284807|              284807|              284807|              284807|            284807|              284807|\n",
            "|   mean| 94813.85957508067|5.109395214431826...|2.554697607215913...|-8.63487791238978...|3.525482697957960...|2.043758085772730...|2.088465293899009...|-2.28645435845824...|-3.57657665010227...|-1.34121624378835...|1.900056345366835...|2.05653157380881E-15|-2.67285237154964...|7.887628862279132...|1.497691472230329...|2.707979463648868...|1.444202491079246...|-3.19337200901989...|3.640444090282676...|9.468348006743977...|1.820222045141338...|2.554697607215913...|8.941441625255696...|7.664092821647739...|4.515428020754126...|1.545592052365627...|1.737194372906821...|-3.54564085876489...|-1.31127838120379...|  88.3496192509508|0.001727485630620034|\n",
            "| stddev|47488.145954566906|  1.9586958038574882|   1.651308579476995|  1.5162550051777774|  1.4158685749409223|  1.3802467340314277|  1.3322710897575698|  1.2370935981826607|  1.1943529026691984|  1.0986320892243164|  1.0888497654025246|  1.0207130277115635|  0.9992013895301407|  0.9952742301251535|   0.958595611257067|  0.9153160116104393|  0.8762528873883741|  0.8493370636743898|  0.8381762095288434|  0.8140405007685821|  0.7709250248871147|  0.7345240143713111|  0.7257015604409144|  0.6244602955949919|   0.605647067827159|  0.5212780705409377| 0.48222701326105777|  0.4036324949650308| 0.33008326416025036|250.12010924018736| 0.04152718963546528|\n",
            "|    min|               0.0|    -56.407509631329|   -72.7157275629303|   -48.3255893623954|   -5.68317119816995|   -113.743306711146|   -26.1605059358433|   -43.5572415712451|   -73.2167184552674|   -13.4340663182301|   -24.5882624372475|   -4.79747346479757|   -18.6837146333443|   -5.79188120632084|   -19.2143254902614|   -4.49894467676621|   -14.1298545174931|   -25.1627993693248|   -9.49874592104677|   -7.21352743017759|    -54.497720494566|   -34.8303821448146|    -10.933143697655|   -44.8077352037913|   -2.83662691870341|   -10.2953970749851|   -2.60455055280817|   -22.5656793207827|   -15.4300839055349|               0.0|                   0|\n",
            "|    max|          172792.0|    2.45492999121121|    22.0577289904909|    9.38255843282114|    16.8753440335975|    34.8016658766686|    73.3016255459646|    120.589493945238|    20.0072083651213|    15.5949946071278|    23.7451361206545|    12.0189131816199|     7.8483920756446|    7.12688295859376|    10.5267660517847|    8.87774159774277|    17.3151115176278|    9.25352625047285|    5.04106918541184|    5.59197142733558|    39.4209042482199|    27.2028391573154|    10.5030900899454|    22.5284116897749|    4.58454913689817|    7.51958867870916|     3.5173456116238|    31.6121981061363|    33.8478078188831|          25691.16|                   1|\n",
            "+-------+------------------+--------------------+--------------------+--------------------+--------------------+--------------------+--------------------+--------------------+--------------------+--------------------+--------------------+--------------------+--------------------+--------------------+--------------------+--------------------+--------------------+--------------------+--------------------+--------------------+--------------------+--------------------+--------------------+--------------------+--------------------+--------------------+--------------------+--------------------+--------------------+------------------+--------------------+\n",
            "\n"
          ]
        }
      ],
      "source": [
        "# Tipos de dados e estatísticas\n",
        "df.printSchema()\n",
        "df.describe().show()"
      ]
    },
    {
      "cell_type": "code",
      "execution_count": 11,
      "metadata": {
        "colab": {
          "base_uri": "https://localhost:8080/"
        },
        "id": "t4bIa5JYrQbs",
        "outputId": "e98c2ec6-abf9-4ac7-ef93-80aa1dd5066d"
      },
      "outputs": [
        {
          "output_type": "stream",
          "name": "stdout",
          "text": [
            "+----+---+---+---+---+---+---+---+---+---+---+---+---+---+---+---+---+---+---+---+---+---+---+---+---+---+---+---+---+------+-----+\n",
            "|Time| V1| V2| V3| V4| V5| V6| V7| V8| V9|V10|V11|V12|V13|V14|V15|V16|V17|V18|V19|V20|V21|V22|V23|V24|V25|V26|V27|V28|Amount|Class|\n",
            "+----+---+---+---+---+---+---+---+---+---+---+---+---+---+---+---+---+---+---+---+---+---+---+---+---+---+---+---+---+------+-----+\n",
            "|   0|  0|  0|  0|  0|  0|  0|  0|  0|  0|  0|  0|  0|  0|  0|  0|  0|  0|  0|  0|  0|  0|  0|  0|  0|  0|  0|  0|  0|     0|    0|\n",
            "+----+---+---+---+---+---+---+---+---+---+---+---+---+---+---+---+---+---+---+---+---+---+---+---+---+---+---+---+---+------+-----+\n",
            "\n"
          ]
        }
      ],
      "source": [
        "# Checando valores nulos\n",
        "from pyspark.sql import functions as F\n",
        "df.select([F.count(F.when(F.isnan(c) | F.col(c).isNull(), c)).alias(c) for c in df.columns]).show()"
      ]
    },
    {
      "cell_type": "code",
      "execution_count": 12,
      "metadata": {
        "colab": {
          "base_uri": "https://localhost:8080/"
        },
        "id": "UrfXFwetrQbt",
        "outputId": "3324dba2-bb24-4ca2-f452-584629773caa"
      },
      "outputs": [
        {
          "output_type": "stream",
          "name": "stdout",
          "text": [
            "+-----+------+\n",
            "|Class| count|\n",
            "+-----+------+\n",
            "|    1|   492|\n",
            "|    0|284315|\n",
            "+-----+------+\n",
            "\n"
          ]
        }
      ],
      "source": [
        "# Distribuição das classes\n",
        "df.groupBy(\"Class\").count().show()"
      ]
    },
    {
      "cell_type": "code",
      "execution_count": 13,
      "metadata": {
        "colab": {
          "base_uri": "https://localhost:8080/"
        },
        "id": "IrcXstBerQbt",
        "outputId": "90ec50a8-e90b-4041-c269-e41187c9b9c6"
      },
      "outputs": [
        {
          "output_type": "stream",
          "name": "stdout",
          "text": [
            "+-----+------+------------------+------------------+---+------+--------+\n",
            "|Class| count|              mean|            stddev|min|median|     max|\n",
            "+-----+------+------------------+------------------+---+------+--------+\n",
            "|    1|   492|122.21132113821136|256.68328829771207|0.0|  9.25| 2125.87|\n",
            "|    0|284315| 88.29102242233286|250.10509222589153|0.0|  22.0|25691.16|\n",
            "+-----+------+------------------+------------------+---+------+--------+\n",
            "\n"
          ]
        }
      ],
      "source": [
        "# Estatísticas de Amount por classe\n",
        "df.groupBy(\"Class\").agg(\n",
        "    F.count(\"*\").alias(\"count\"),\n",
        "    F.mean(\"Amount\").alias(\"mean\"),\n",
        "    F.stddev(\"Amount\").alias(\"stddev\"),\n",
        "    F.min(\"Amount\").alias(\"min\"),\n",
        "    F.expr(\"percentile(Amount, 0.5)\").alias(\"median\"),\n",
        "    F.max(\"Amount\").alias(\"max\")\n",
        ").show()"
      ]
    },
    {
      "cell_type": "markdown",
      "metadata": {
        "id": "ZBXRQt1jrQbu"
      },
      "source": [
        "## 3. Balanceamento do Dataset"
      ]
    },
    {
      "cell_type": "code",
      "execution_count": 14,
      "metadata": {
        "colab": {
          "base_uri": "https://localhost:8080/"
        },
        "id": "fDN3feBhrQbv",
        "outputId": "4ffea6b3-c4ac-458a-9e7d-508e04ce2e3e"
      },
      "outputs": [
        {
          "output_type": "stream",
          "name": "stdout",
          "text": [
            "+-----+-----+\n",
            "|Class|count|\n",
            "+-----+-----+\n",
            "|    1|  492|\n",
            "|    0|  488|\n",
            "+-----+-----+\n",
            "\n"
          ]
        }
      ],
      "source": [
        "# Separando fraudes e não-fraudes\n",
        "fraud = df.filter(df.Class == 1)\n",
        "notfraud = df.filter(df.Class == 0)\n",
        "\n",
        "# Amostrando não-fraudes para balancear\n",
        "fraud_count = fraud.count()\n",
        "notfraud_sample = notfraud.sample(False, fraud_count / notfraud.count(), seed=42)\n",
        "\n",
        "balanced_df = fraud.union(notfraud_sample)\n",
        "balanced_df.groupBy(\"Class\").count().show()"
      ]
    },
    {
      "cell_type": "markdown",
      "metadata": {
        "id": "kENXlWL7rQbv"
      },
      "source": [
        "## 4. Seleção de Features por Correlação"
      ]
    },
    {
      "cell_type": "code",
      "execution_count": 15,
      "metadata": {
        "colab": {
          "base_uri": "https://localhost:8080/"
        },
        "id": "LfN4ia2RrQbv",
        "outputId": "2ff0c81c-c280-4ff7-8f6a-2722937075a5"
      },
      "outputs": [
        {
          "output_type": "stream",
          "name": "stdout",
          "text": [
            "Features selecionadas: ['V1', 'V2', 'V3', 'V4', 'V5', 'V6', 'V7', 'V9', 'V10', 'V11', 'V12', 'V14', 'V16', 'V17', 'V18', 'V19', 'V20', 'V21', 'V24', 'V28']\n"
          ]
        }
      ],
      "source": [
        "# Calculando correlação de cada feature com o target\n",
        "features = [c for c in balanced_df.columns if c not in [\"Class\", \"Time\"]]\n",
        "correlations = {}\n",
        "for col in features:\n",
        "    correlations[col] = balanced_df.stat.corr(col, \"Class\")\n",
        "\n",
        "# Selecionando features com |correlação| >= 0.1\n",
        "selected_features = [col for col, corr in correlations.items() if abs(corr) >= 0.1]\n",
        "print(\"Features selecionadas:\", selected_features)"
      ]
    },
    {
      "cell_type": "markdown",
      "metadata": {
        "id": "A5_qb0L-rQbv"
      },
      "source": [
        "## 5. Treinamento do Modelo"
      ]
    },
    {
      "cell_type": "code",
      "execution_count": 16,
      "metadata": {
        "id": "l4K7Dr1LrQbw"
      },
      "outputs": [],
      "source": [
        "from pyspark.ml.feature import VectorAssembler\n",
        "\n",
        "assembler = VectorAssembler(inputCols=selected_features, outputCol=\"features\")\n",
        "final_df = assembler.transform(balanced_df).select(\"features\", \"Class\")"
      ]
    },
    {
      "cell_type": "code",
      "execution_count": 17,
      "metadata": {
        "id": "XMUF00-zrQbw"
      },
      "outputs": [],
      "source": [
        "# Split train/test\n",
        "train, test = final_df.randomSplit([0.8, 0.2], seed=42)"
      ]
    },
    {
      "cell_type": "code",
      "execution_count": 18,
      "metadata": {
        "id": "mNfKkm7grQbw"
      },
      "outputs": [],
      "source": [
        "from pyspark.ml.classification import LogisticRegression\n",
        "\n",
        "lr = LogisticRegression(featuresCol=\"features\", labelCol=\"Class\", maxIter=10000)\n",
        "model = lr.fit(train)"
      ]
    },
    {
      "cell_type": "markdown",
      "metadata": {
        "id": "H0dmyd9UrQbw"
      },
      "source": [
        "## 6. Avaliação do Modelo"
      ]
    },
    {
      "cell_type": "code",
      "execution_count": 19,
      "metadata": {
        "colab": {
          "base_uri": "https://localhost:8080/"
        },
        "id": "ETWqJwA6rQbw",
        "outputId": "e254c9ea-de1c-4f3b-f23c-fe94029b0619"
      },
      "outputs": [
        {
          "output_type": "stream",
          "name": "stdout",
          "text": [
            "Resultados do modelo com Undersampling:\n",
            "Area Under ROC (AUROC): 0.9731250000000005\n",
            "Area Under PR (AUPRC): 0.9730572542221237\n"
          ]
        }
      ],
      "source": [
        "predictions = model.transform(test)\n",
        "\n",
        "from pyspark.ml.evaluation import BinaryClassificationEvaluator, MulticlassClassificationEvaluator\n",
        "\n",
        "evaluator = BinaryClassificationEvaluator(labelCol=\"Class\")\n",
        "auroc = evaluator.evaluate(predictions, {evaluator.metricName: \"areaUnderROC\"})\n",
        "auprc = evaluator.evaluate(predictions, {evaluator.metricName: \"areaUnderPR\"})\n",
        "\n",
        "print(\"Resultados do modelo com Undersampling:\")\n",
        "print(f\"Area Under ROC (AUROC): {auroc}\")\n",
        "print(f\"Area Under PR (AUPRC): {auprc}\")"
      ]
    }
  ],
  "metadata": {
    "kernelspec": {
      "display_name": "Python 3",
      "language": "python",
      "name": "python3"
    },
    "language_info": {
      "name": "python",
      "version": "3.8"
    },
    "colab": {
      "provenance": []
    }
  },
  "nbformat": 4,
  "nbformat_minor": 0
}