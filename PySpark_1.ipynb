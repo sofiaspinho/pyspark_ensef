{
  "nbformat": 4,
  "nbformat_minor": 0,
  "metadata": {
    "colab": {
      "provenance": [],
      "authorship_tag": "ABX9TyMxBY6dkoMOd1U8031LTb0P"
    },
    "kernelspec": {
      "name": "python3",
      "display_name": "Python 3"
    },
    "language_info": {
      "name": "python"
    }
  },
  "cells": [
    {
      "cell_type": "markdown",
      "source": [
        "# Dia 1/2 (07/08/2025)"
      ],
      "metadata": {
        "id": "ryASb5aBXXhB"
      }
    },
    {
      "cell_type": "code",
      "execution_count": 1,
      "metadata": {
        "id": "dWIltvUBXP75"
      },
      "outputs": [],
      "source": [
        "!pip --quiet install pyspark kagglehub pyngrok"
      ]
    },
    {
      "cell_type": "code",
      "source": [
        "import kagglehub # Para baixar datasets do Kaggle\n",
        "from pyspark.sql import SparkSession # Para criar e gerenciar a sessão Spark\n",
        "from pyspark.sql.functions import col, count, sum, when # Funções úteis para manipulação de DataFrames\n",
        "from plotly.subplots import make_subplots # Para criar gráficos com múltiplos subplots\n",
        "import plotly.graph_objects as go # Para construir figuras e gráficos Plotly\n",
        "from pyngrok import ngrok # Para criar um túnel público para a Spark UI"
      ],
      "metadata": {
        "id": "atg5Ig4dXlkf"
      },
      "execution_count": 2,
      "outputs": []
    },
    {
      "cell_type": "code",
      "source": [
        "path = kagglehub.dataset_download(\"ealaxi/paysim1\")\n",
        "\n",
        "print(\"Path to dataset files:\", path)\n",
        "\n",
        "csv_file = f\"{path}/PS_20174392719_1491204439457_log.csv\"\n",
        "print(\"CSV file:\", csv_file)\n"
      ],
      "metadata": {
        "colab": {
          "base_uri": "https://localhost:8080/"
        },
        "id": "PNyCUohnaE4_",
        "outputId": "d584356e-f1c4-415f-b497-eead7a81e393"
      },
      "execution_count": 3,
      "outputs": [
        {
          "output_type": "stream",
          "name": "stdout",
          "text": [
            "Path to dataset files: /kaggle/input/paysim1\n",
            "CSV file: /kaggle/input/paysim1/PS_20174392719_1491204439457_log.csv\n"
          ]
        }
      ]
    },
    {
      "cell_type": "code",
      "source": [
        "spark = (\n",
        "    SparkSession.builder\n",
        "    .master(\"local[*]\")  # Use todos os núcleos disponíveis na máquina local\n",
        "    .appName(\"ColabOptimized\")  # Define um nome para a aplicação Spark\n",
        "    .config(\"spark.ui.port\", \"4050\")  # Configura a porta para a interface web do Spark UI\n",
        "    .config(\"spark.sql.execution.arrow.pyspark.enabled\", \"true\")  # Habilita a conversão rápida de dados entre Spark e Pandas DataFrames usando Apache Arrow\n",
        "    .config(\"spark.sql.repl.eagerEval.enabled\", \"true\")  # Permite que os DataFrames sejam exibidos automaticamente no console\n",
        "    .config(\"spark.driver.memory\", \"4g\")  # Define a quantidade máxima de memória para o driver Spark\n",
        "    .config(\"spark.sql.shuffle.partitions\", \"8\")  # Define o número de partições para operações de shuffle; um número menor pode ser melhor para dados pequenos/médios\n",
        "    .config(\"spark.serializer\", \"org.apache.spark.serializer.KryoSerializer\")  # Define o serializador a ser usado; Kryo é geralmente mais rápido que o padrão Java\n",
        "    .config(\"spark.kryoserializer.buffer.max\", \"2000\")  # Define o tamanho máximo do buffer do serializador Kryo em megabytes\n",
        "    .config(\"spark.driver.maxResultSize\", \"1g\")  # Define o tamanho máximo dos resultados coletados do executor para o driver\n",
        "    .config(\"spark.dynamicAllocation.enabled\",\"true\") # Habilita alocação dinâmica de recursos (executors)\n",
        "    .config(\"spark.dynamicAllocation.minExecutors\",\"2\") # Define o número mínimo de executors quando a alocação dinâmica está habilitada\n",
        "    .config(\"spark.dynamicAllocation.maxExecutors\",\"20\") # Define o número máximo de executors quando a alocação dinâmica está habilitada\n",
        "    .config(\"spark.sql.adaptive.enabled\", \"true\") # Habilita a execução adaptativa de queries, que pode otimizar planos de execução em tempo de execução\n",
        "    .config(\"spark.sql.adaptive.coalescePartitions.enabled\", \"true\") # Habilita a coalescência de partições na execução adaptativa para reduzir o número de partições\n",
        "    .getOrCreate()\n",
        ")"
      ],
      "metadata": {
        "id": "lOx8sAuiaHgX"
      },
      "execution_count": 4,
      "outputs": []
    },
    {
      "cell_type": "code",
      "source": [
        "try:\n",
        "  df_csv = spark.read.csv(\n",
        "      csv_file,\n",
        "      header=True,\n",
        "      inferSchema=True\n",
        "  )\n",
        "  print(\"Dataframe criado com sucesso!\")\n",
        "  print(\"Schema do dataframe:\")\n",
        "  df_csv.printSchema()\n",
        "  print(\"Primeiras 5 linhas do dataframe:\")\n",
        "  df_csv.show(5)\n",
        "except Exception as e:\n",
        "  print(e)"
      ],
      "metadata": {
        "colab": {
          "base_uri": "https://localhost:8080/"
        },
        "id": "aeEgx_RCaRIn",
        "outputId": "52c07e78-92fe-4f6c-e8c4-feccba6af574"
      },
      "execution_count": 5,
      "outputs": [
        {
          "output_type": "stream",
          "name": "stdout",
          "text": [
            "Dataframe criado com sucesso!\n",
            "Schema do dataframe:\n",
            "root\n",
            " |-- step: integer (nullable = true)\n",
            " |-- type: string (nullable = true)\n",
            " |-- amount: double (nullable = true)\n",
            " |-- nameOrig: string (nullable = true)\n",
            " |-- oldbalanceOrg: double (nullable = true)\n",
            " |-- newbalanceOrig: double (nullable = true)\n",
            " |-- nameDest: string (nullable = true)\n",
            " |-- oldbalanceDest: double (nullable = true)\n",
            " |-- newbalanceDest: double (nullable = true)\n",
            " |-- isFraud: integer (nullable = true)\n",
            " |-- isFlaggedFraud: integer (nullable = true)\n",
            "\n",
            "Primeiras 5 linhas do dataframe:\n",
            "+----+--------+--------+-----------+-------------+--------------+-----------+--------------+--------------+-------+--------------+\n",
            "|step|    type|  amount|   nameOrig|oldbalanceOrg|newbalanceOrig|   nameDest|oldbalanceDest|newbalanceDest|isFraud|isFlaggedFraud|\n",
            "+----+--------+--------+-----------+-------------+--------------+-----------+--------------+--------------+-------+--------------+\n",
            "|   1| PAYMENT| 9839.64|C1231006815|     170136.0|     160296.36|M1979787155|           0.0|           0.0|      0|             0|\n",
            "|   1| PAYMENT| 1864.28|C1666544295|      21249.0|      19384.72|M2044282225|           0.0|           0.0|      0|             0|\n",
            "|   1|TRANSFER|   181.0|C1305486145|        181.0|           0.0| C553264065|           0.0|           0.0|      1|             0|\n",
            "|   1|CASH_OUT|   181.0| C840083671|        181.0|           0.0|  C38997010|       21182.0|           0.0|      1|             0|\n",
            "|   1| PAYMENT|11668.14|C2048537720|      41554.0|      29885.86|M1230701703|           0.0|           0.0|      0|             0|\n",
            "+----+--------+--------+-----------+-------------+--------------+-----------+--------------+--------------+-------+--------------+\n",
            "only showing top 5 rows\n",
            "\n"
          ]
        }
      ]
    },
    {
      "cell_type": "code",
      "source": [
        "# Define o caminho de saída para o arquivo Parquet em um diretório gravável\n",
        "parquet_output_path = \"/content/paysim.parquet\"\n",
        "\n",
        "# Escreve o DataFrame no formato Parquet\n",
        "df_csv.write.parquet(parquet_output_path, mode=\"overwrite\")\n",
        "\n",
        "print(f\"Arquivo CSV convertido para Parquet e salvo em: {parquet_output_path}\")\n",
        "\n",
        "df = spark.read.parquet(parquet_output_path)"
      ],
      "metadata": {
        "colab": {
          "base_uri": "https://localhost:8080/"
        },
        "id": "tHC2rFuFacKf",
        "outputId": "740db1e4-aa80-4adc-e956-7fcf876d48b0"
      },
      "execution_count": 6,
      "outputs": [
        {
          "output_type": "stream",
          "name": "stdout",
          "text": [
            "Arquivo CSV convertido para Parquet e salvo em: /content/paysim.parquet\n"
          ]
        }
      ]
    },
    {
      "cell_type": "code",
      "source": [
        "df.describe().show()"
      ],
      "metadata": {
        "colab": {
          "base_uri": "https://localhost:8080/"
        },
        "id": "k8Q-w5Koapef",
        "outputId": "969a05f4-d394-453c-c47b-514d5d46b59b"
      },
      "execution_count": 7,
      "outputs": [
        {
          "output_type": "stream",
          "name": "stdout",
          "text": [
            "+-------+------------------+--------+------------------+-----------+-----------------+------------------+-----------+------------------+------------------+--------------------+--------------------+\n",
            "|summary|              step|    type|            amount|   nameOrig|    oldbalanceOrg|    newbalanceOrig|   nameDest|    oldbalanceDest|    newbalanceDest|             isFraud|      isFlaggedFraud|\n",
            "+-------+------------------+--------+------------------+-----------+-----------------+------------------+-----------+------------------+------------------+--------------------+--------------------+\n",
            "|  count|           6362620| 6362620|           6362620|    6362620|          6362620|           6362620|    6362620|           6362620|           6362620|             6362620|             6362620|\n",
            "|   mean|243.39724563151657|    NULL|179861.90354912955|       NULL| 833883.104074466| 855113.6685785623|       NULL|1100701.6665196575|1224996.3982019091|0.001290820448180152| 2.51468734577894E-6|\n",
            "| stddev|142.33197104912998|    NULL| 603858.2314629173|       NULL|2888242.673037513|2924048.5029542376|       NULL|3399180.1129944474| 3674128.942119666|0.035904796801603925|0.001585774705736548|\n",
            "|    min|                 1| CASH_IN|               0.0|C1000000639|              0.0|               0.0|C1000004082|               0.0|               0.0|                   0|                   0|\n",
            "|    max|               743|TRANSFER|     9.244551664E7| C999999784|    5.958504037E7|     4.958504037E7| M999999784|    3.5601588935E8|    3.5617927892E8|                   1|                   1|\n",
            "+-------+------------------+--------+------------------+-----------+-----------------+------------------+-----------+------------------+------------------+--------------------+--------------------+\n",
            "\n"
          ]
        }
      ]
    },
    {
      "cell_type": "code",
      "source": [
        "# Proporção de transações fraudulentas\n",
        "total = df.count()\n",
        "fraudes = df.filter(col(\"isFraud\") == 1).count()\n",
        "print(f\"Proporção de fraudes: {fraudes/total:.4%}\")"
      ],
      "metadata": {
        "colab": {
          "base_uri": "https://localhost:8080/"
        },
        "id": "rHYv7fOfbIA6",
        "outputId": "dcf15e82-b8bb-4ce0-b2e1-1b30d9dd8e0f"
      },
      "execution_count": 8,
      "outputs": [
        {
          "output_type": "stream",
          "name": "stdout",
          "text": [
            "Proporção de fraudes: 0.1291%\n"
          ]
        }
      ]
    },
    {
      "cell_type": "code",
      "source": [
        "# Estatísticas dos valores das transações\n",
        "df.select(\"amount\").describe().show()"
      ],
      "metadata": {
        "colab": {
          "base_uri": "https://localhost:8080/"
        },
        "id": "DamoEQaIbPmd",
        "outputId": "2705dbb5-adf0-4bc4-eb79-1247eadbb28c"
      },
      "execution_count": 9,
      "outputs": [
        {
          "output_type": "stream",
          "name": "stdout",
          "text": [
            "+-------+------------------+\n",
            "|summary|            amount|\n",
            "+-------+------------------+\n",
            "|  count|           6362620|\n",
            "|   mean|179861.90354912955|\n",
            "| stddev| 603858.2314629173|\n",
            "|    min|               0.0|\n",
            "|    max|     9.244551664E7|\n",
            "+-------+------------------+\n",
            "\n"
          ]
        }
      ]
    },
    {
      "cell_type": "code",
      "source": [
        "# Estatísticas dos saldos antes e depois da transação para o originador\n",
        "df.select(\"oldbalanceOrg\", \"newbalanceOrig\").describe().show()"
      ],
      "metadata": {
        "colab": {
          "base_uri": "https://localhost:8080/"
        },
        "id": "uZ_axOfobUiB",
        "outputId": "db6a8b49-a52e-4432-caa9-8701c298d49c"
      },
      "execution_count": 10,
      "outputs": [
        {
          "output_type": "stream",
          "name": "stdout",
          "text": [
            "+-------+-----------------+------------------+\n",
            "|summary|    oldbalanceOrg|    newbalanceOrig|\n",
            "+-------+-----------------+------------------+\n",
            "|  count|          6362620|           6362620|\n",
            "|   mean| 833883.104074466| 855113.6685785623|\n",
            "| stddev|2888242.673037513|2924048.5029542376|\n",
            "|    min|              0.0|               0.0|\n",
            "|    max|    5.958504037E7|     4.958504037E7|\n",
            "+-------+-----------------+------------------+\n",
            "\n"
          ]
        }
      ]
    },
    {
      "cell_type": "code",
      "source": [
        "# Contagem de transações sinalizadas como fraude\n",
        "df.groupBy(\"isFlaggedFraud\").count().show()"
      ],
      "metadata": {
        "colab": {
          "base_uri": "https://localhost:8080/"
        },
        "id": "-MsJsa1HbW1Y",
        "outputId": "41270d42-8f02-41f0-ee6a-e5cdffca63c6"
      },
      "execution_count": 11,
      "outputs": [
        {
          "output_type": "stream",
          "name": "stdout",
          "text": [
            "+--------------+-------+\n",
            "|isFlaggedFraud|  count|\n",
            "+--------------+-------+\n",
            "|             1|     16|\n",
            "|             0|6362604|\n",
            "+--------------+-------+\n",
            "\n"
          ]
        }
      ]
    },
    {
      "cell_type": "code",
      "source": [
        "# Conta valores nulos em cada coluna\n",
        "df.select([sum(when(col(c).isNull(), 1).otherwise(0)).alias(c) for c in df.columns]).show()"
      ],
      "metadata": {
        "colab": {
          "base_uri": "https://localhost:8080/"
        },
        "id": "vf-uxsEGbcTX",
        "outputId": "160017d2-f750-4bb6-cc60-0fd7761d0423"
      },
      "execution_count": 12,
      "outputs": [
        {
          "output_type": "stream",
          "name": "stdout",
          "text": [
            "+----+----+------+--------+-------------+--------------+--------+--------------+--------------+-------+--------------+\n",
            "|step|type|amount|nameOrig|oldbalanceOrg|newbalanceOrig|nameDest|oldbalanceDest|newbalanceDest|isFraud|isFlaggedFraud|\n",
            "+----+----+------+--------+-------------+--------------+--------+--------------+--------------+-------+--------------+\n",
            "|   0|   0|     0|       0|            0|             0|       0|             0|             0|      0|             0|\n",
            "+----+----+------+--------+-------------+--------------+--------+--------------+--------------+-------+--------------+\n",
            "\n"
          ]
        }
      ]
    },
    {
      "cell_type": "code",
      "source": [
        "# Clientes que mais iniciaram transações\n",
        "df.groupBy(\"nameOrig\").count().orderBy(col(\"count\").desc()).show(5)"
      ],
      "metadata": {
        "colab": {
          "base_uri": "https://localhost:8080/"
        },
        "id": "HPIc7nVFbeWf",
        "outputId": "157f9102-cf0c-4369-835d-18ef32ece176"
      },
      "execution_count": 13,
      "outputs": [
        {
          "output_type": "stream",
          "name": "stdout",
          "text": [
            "+-----------+-----+\n",
            "|   nameOrig|count|\n",
            "+-----------+-----+\n",
            "| C724452879|    3|\n",
            "|C1677795071|    3|\n",
            "|C2098525306|    3|\n",
            "|C1784010646|    3|\n",
            "|C1902386530|    3|\n",
            "+-----------+-----+\n",
            "only showing top 5 rows\n",
            "\n"
          ]
        }
      ]
    },
    {
      "cell_type": "code",
      "source": [
        "# Contagem de transações por tipo\n",
        "transaction_counts = df.groupBy(\"type\").agg(count(\"*\").alias(\"qtd_transacoes\")).toPandas()\n",
        "\n",
        "# Criar gráfico de barras usando Plotly\n",
        "fig = go.Figure(data=[go.Bar(x=transaction_counts['type'], y=transaction_counts['qtd_transacoes'])])\n",
        "\n",
        "# Atualizar layout\n",
        "fig.update_layout(title_text=\"Contagem de Transações por Tipo\",\n",
        "                  xaxis_title=\"Tipo de Transação\",\n",
        "                  yaxis_title=\"Quantidade de Transações\")\n",
        "\n",
        "fig.show()"
      ],
      "metadata": {
        "colab": {
          "base_uri": "https://localhost:8080/",
          "height": 542
        },
        "id": "iUJqaptTbhOe",
        "outputId": "b466d754-bf21-467c-dda0-e1905bc0ddfc"
      },
      "execution_count": 14,
      "outputs": [
        {
          "output_type": "display_data",
          "data": {
            "text/html": [
              "<html>\n",
              "<head><meta charset=\"utf-8\" /></head>\n",
              "<body>\n",
              "    <div>            <script src=\"https://cdnjs.cloudflare.com/ajax/libs/mathjax/2.7.5/MathJax.js?config=TeX-AMS-MML_SVG\"></script><script type=\"text/javascript\">if (window.MathJax && window.MathJax.Hub && window.MathJax.Hub.Config) {window.MathJax.Hub.Config({SVG: {font: \"STIX-Web\"}});}</script>                <script type=\"text/javascript\">window.PlotlyConfig = {MathJaxConfig: 'local'};</script>\n",
              "        <script charset=\"utf-8\" src=\"https://cdn.plot.ly/plotly-2.35.2.min.js\"></script>                <div id=\"6fe2b251-0173-4917-adc5-344ac0ccd795\" class=\"plotly-graph-div\" style=\"height:525px; width:100%;\"></div>            <script type=\"text/javascript\">                                    window.PLOTLYENV=window.PLOTLYENV || {};                                    if (document.getElementById(\"6fe2b251-0173-4917-adc5-344ac0ccd795\")) {                    Plotly.newPlot(                        \"6fe2b251-0173-4917-adc5-344ac0ccd795\",                        [{\"x\":[\"PAYMENT\",\"DEBIT\",\"CASH_IN\",\"CASH_OUT\",\"TRANSFER\"],\"y\":[2151495,41432,1399284,2237500,532909],\"type\":\"bar\"}],                        {\"template\":{\"data\":{\"histogram2dcontour\":[{\"type\":\"histogram2dcontour\",\"colorbar\":{\"outlinewidth\":0,\"ticks\":\"\"},\"colorscale\":[[0.0,\"#0d0887\"],[0.1111111111111111,\"#46039f\"],[0.2222222222222222,\"#7201a8\"],[0.3333333333333333,\"#9c179e\"],[0.4444444444444444,\"#bd3786\"],[0.5555555555555556,\"#d8576b\"],[0.6666666666666666,\"#ed7953\"],[0.7777777777777778,\"#fb9f3a\"],[0.8888888888888888,\"#fdca26\"],[1.0,\"#f0f921\"]]}],\"choropleth\":[{\"type\":\"choropleth\",\"colorbar\":{\"outlinewidth\":0,\"ticks\":\"\"}}],\"histogram2d\":[{\"type\":\"histogram2d\",\"colorbar\":{\"outlinewidth\":0,\"ticks\":\"\"},\"colorscale\":[[0.0,\"#0d0887\"],[0.1111111111111111,\"#46039f\"],[0.2222222222222222,\"#7201a8\"],[0.3333333333333333,\"#9c179e\"],[0.4444444444444444,\"#bd3786\"],[0.5555555555555556,\"#d8576b\"],[0.6666666666666666,\"#ed7953\"],[0.7777777777777778,\"#fb9f3a\"],[0.8888888888888888,\"#fdca26\"],[1.0,\"#f0f921\"]]}],\"heatmap\":[{\"type\":\"heatmap\",\"colorbar\":{\"outlinewidth\":0,\"ticks\":\"\"},\"colorscale\":[[0.0,\"#0d0887\"],[0.1111111111111111,\"#46039f\"],[0.2222222222222222,\"#7201a8\"],[0.3333333333333333,\"#9c179e\"],[0.4444444444444444,\"#bd3786\"],[0.5555555555555556,\"#d8576b\"],[0.6666666666666666,\"#ed7953\"],[0.7777777777777778,\"#fb9f3a\"],[0.8888888888888888,\"#fdca26\"],[1.0,\"#f0f921\"]]}],\"heatmapgl\":[{\"type\":\"heatmapgl\",\"colorbar\":{\"outlinewidth\":0,\"ticks\":\"\"},\"colorscale\":[[0.0,\"#0d0887\"],[0.1111111111111111,\"#46039f\"],[0.2222222222222222,\"#7201a8\"],[0.3333333333333333,\"#9c179e\"],[0.4444444444444444,\"#bd3786\"],[0.5555555555555556,\"#d8576b\"],[0.6666666666666666,\"#ed7953\"],[0.7777777777777778,\"#fb9f3a\"],[0.8888888888888888,\"#fdca26\"],[1.0,\"#f0f921\"]]}],\"contourcarpet\":[{\"type\":\"contourcarpet\",\"colorbar\":{\"outlinewidth\":0,\"ticks\":\"\"}}],\"contour\":[{\"type\":\"contour\",\"colorbar\":{\"outlinewidth\":0,\"ticks\":\"\"},\"colorscale\":[[0.0,\"#0d0887\"],[0.1111111111111111,\"#46039f\"],[0.2222222222222222,\"#7201a8\"],[0.3333333333333333,\"#9c179e\"],[0.4444444444444444,\"#bd3786\"],[0.5555555555555556,\"#d8576b\"],[0.6666666666666666,\"#ed7953\"],[0.7777777777777778,\"#fb9f3a\"],[0.8888888888888888,\"#fdca26\"],[1.0,\"#f0f921\"]]}],\"surface\":[{\"type\":\"surface\",\"colorbar\":{\"outlinewidth\":0,\"ticks\":\"\"},\"colorscale\":[[0.0,\"#0d0887\"],[0.1111111111111111,\"#46039f\"],[0.2222222222222222,\"#7201a8\"],[0.3333333333333333,\"#9c179e\"],[0.4444444444444444,\"#bd3786\"],[0.5555555555555556,\"#d8576b\"],[0.6666666666666666,\"#ed7953\"],[0.7777777777777778,\"#fb9f3a\"],[0.8888888888888888,\"#fdca26\"],[1.0,\"#f0f921\"]]}],\"mesh3d\":[{\"type\":\"mesh3d\",\"colorbar\":{\"outlinewidth\":0,\"ticks\":\"\"}}],\"scatter\":[{\"fillpattern\":{\"fillmode\":\"overlay\",\"size\":10,\"solidity\":0.2},\"type\":\"scatter\"}],\"parcoords\":[{\"type\":\"parcoords\",\"line\":{\"colorbar\":{\"outlinewidth\":0,\"ticks\":\"\"}}}],\"scatterpolargl\":[{\"type\":\"scatterpolargl\",\"marker\":{\"colorbar\":{\"outlinewidth\":0,\"ticks\":\"\"}}}],\"bar\":[{\"error_x\":{\"color\":\"#2a3f5f\"},\"error_y\":{\"color\":\"#2a3f5f\"},\"marker\":{\"line\":{\"color\":\"#E5ECF6\",\"width\":0.5},\"pattern\":{\"fillmode\":\"overlay\",\"size\":10,\"solidity\":0.2}},\"type\":\"bar\"}],\"scattergeo\":[{\"type\":\"scattergeo\",\"marker\":{\"colorbar\":{\"outlinewidth\":0,\"ticks\":\"\"}}}],\"scatterpolar\":[{\"type\":\"scatterpolar\",\"marker\":{\"colorbar\":{\"outlinewidth\":0,\"ticks\":\"\"}}}],\"histogram\":[{\"marker\":{\"pattern\":{\"fillmode\":\"overlay\",\"size\":10,\"solidity\":0.2}},\"type\":\"histogram\"}],\"scattergl\":[{\"type\":\"scattergl\",\"marker\":{\"colorbar\":{\"outlinewidth\":0,\"ticks\":\"\"}}}],\"scatter3d\":[{\"type\":\"scatter3d\",\"line\":{\"colorbar\":{\"outlinewidth\":0,\"ticks\":\"\"}},\"marker\":{\"colorbar\":{\"outlinewidth\":0,\"ticks\":\"\"}}}],\"scattermapbox\":[{\"type\":\"scattermapbox\",\"marker\":{\"colorbar\":{\"outlinewidth\":0,\"ticks\":\"\"}}}],\"scatterternary\":[{\"type\":\"scatterternary\",\"marker\":{\"colorbar\":{\"outlinewidth\":0,\"ticks\":\"\"}}}],\"scattercarpet\":[{\"type\":\"scattercarpet\",\"marker\":{\"colorbar\":{\"outlinewidth\":0,\"ticks\":\"\"}}}],\"carpet\":[{\"aaxis\":{\"endlinecolor\":\"#2a3f5f\",\"gridcolor\":\"white\",\"linecolor\":\"white\",\"minorgridcolor\":\"white\",\"startlinecolor\":\"#2a3f5f\"},\"baxis\":{\"endlinecolor\":\"#2a3f5f\",\"gridcolor\":\"white\",\"linecolor\":\"white\",\"minorgridcolor\":\"white\",\"startlinecolor\":\"#2a3f5f\"},\"type\":\"carpet\"}],\"table\":[{\"cells\":{\"fill\":{\"color\":\"#EBF0F8\"},\"line\":{\"color\":\"white\"}},\"header\":{\"fill\":{\"color\":\"#C8D4E3\"},\"line\":{\"color\":\"white\"}},\"type\":\"table\"}],\"barpolar\":[{\"marker\":{\"line\":{\"color\":\"#E5ECF6\",\"width\":0.5},\"pattern\":{\"fillmode\":\"overlay\",\"size\":10,\"solidity\":0.2}},\"type\":\"barpolar\"}],\"pie\":[{\"automargin\":true,\"type\":\"pie\"}]},\"layout\":{\"autotypenumbers\":\"strict\",\"colorway\":[\"#636efa\",\"#EF553B\",\"#00cc96\",\"#ab63fa\",\"#FFA15A\",\"#19d3f3\",\"#FF6692\",\"#B6E880\",\"#FF97FF\",\"#FECB52\"],\"font\":{\"color\":\"#2a3f5f\"},\"hovermode\":\"closest\",\"hoverlabel\":{\"align\":\"left\"},\"paper_bgcolor\":\"white\",\"plot_bgcolor\":\"#E5ECF6\",\"polar\":{\"bgcolor\":\"#E5ECF6\",\"angularaxis\":{\"gridcolor\":\"white\",\"linecolor\":\"white\",\"ticks\":\"\"},\"radialaxis\":{\"gridcolor\":\"white\",\"linecolor\":\"white\",\"ticks\":\"\"}},\"ternary\":{\"bgcolor\":\"#E5ECF6\",\"aaxis\":{\"gridcolor\":\"white\",\"linecolor\":\"white\",\"ticks\":\"\"},\"baxis\":{\"gridcolor\":\"white\",\"linecolor\":\"white\",\"ticks\":\"\"},\"caxis\":{\"gridcolor\":\"white\",\"linecolor\":\"white\",\"ticks\":\"\"}},\"coloraxis\":{\"colorbar\":{\"outlinewidth\":0,\"ticks\":\"\"}},\"colorscale\":{\"sequential\":[[0.0,\"#0d0887\"],[0.1111111111111111,\"#46039f\"],[0.2222222222222222,\"#7201a8\"],[0.3333333333333333,\"#9c179e\"],[0.4444444444444444,\"#bd3786\"],[0.5555555555555556,\"#d8576b\"],[0.6666666666666666,\"#ed7953\"],[0.7777777777777778,\"#fb9f3a\"],[0.8888888888888888,\"#fdca26\"],[1.0,\"#f0f921\"]],\"sequentialminus\":[[0.0,\"#0d0887\"],[0.1111111111111111,\"#46039f\"],[0.2222222222222222,\"#7201a8\"],[0.3333333333333333,\"#9c179e\"],[0.4444444444444444,\"#bd3786\"],[0.5555555555555556,\"#d8576b\"],[0.6666666666666666,\"#ed7953\"],[0.7777777777777778,\"#fb9f3a\"],[0.8888888888888888,\"#fdca26\"],[1.0,\"#f0f921\"]],\"diverging\":[[0,\"#8e0152\"],[0.1,\"#c51b7d\"],[0.2,\"#de77ae\"],[0.3,\"#f1b6da\"],[0.4,\"#fde0ef\"],[0.5,\"#f7f7f7\"],[0.6,\"#e6f5d0\"],[0.7,\"#b8e186\"],[0.8,\"#7fbc41\"],[0.9,\"#4d9221\"],[1,\"#276419\"]]},\"xaxis\":{\"gridcolor\":\"white\",\"linecolor\":\"white\",\"ticks\":\"\",\"title\":{\"standoff\":15},\"zerolinecolor\":\"white\",\"automargin\":true,\"zerolinewidth\":2},\"yaxis\":{\"gridcolor\":\"white\",\"linecolor\":\"white\",\"ticks\":\"\",\"title\":{\"standoff\":15},\"zerolinecolor\":\"white\",\"automargin\":true,\"zerolinewidth\":2},\"scene\":{\"xaxis\":{\"backgroundcolor\":\"#E5ECF6\",\"gridcolor\":\"white\",\"linecolor\":\"white\",\"showbackground\":true,\"ticks\":\"\",\"zerolinecolor\":\"white\",\"gridwidth\":2},\"yaxis\":{\"backgroundcolor\":\"#E5ECF6\",\"gridcolor\":\"white\",\"linecolor\":\"white\",\"showbackground\":true,\"ticks\":\"\",\"zerolinecolor\":\"white\",\"gridwidth\":2},\"zaxis\":{\"backgroundcolor\":\"#E5ECF6\",\"gridcolor\":\"white\",\"linecolor\":\"white\",\"showbackground\":true,\"ticks\":\"\",\"zerolinecolor\":\"white\",\"gridwidth\":2}},\"shapedefaults\":{\"line\":{\"color\":\"#2a3f5f\"}},\"annotationdefaults\":{\"arrowcolor\":\"#2a3f5f\",\"arrowhead\":0,\"arrowwidth\":1},\"geo\":{\"bgcolor\":\"white\",\"landcolor\":\"#E5ECF6\",\"subunitcolor\":\"white\",\"showland\":true,\"showlakes\":true,\"lakecolor\":\"white\"},\"title\":{\"x\":0.05},\"mapbox\":{\"style\":\"light\"}}},\"title\":{\"text\":\"Contagem de Transações por Tipo\"},\"xaxis\":{\"title\":{\"text\":\"Tipo de Transação\"}},\"yaxis\":{\"title\":{\"text\":\"Quantidade de Transações\"}}},                        {\"responsive\": true}                    ).then(function(){\n",
              "                            \n",
              "var gd = document.getElementById('6fe2b251-0173-4917-adc5-344ac0ccd795');\n",
              "var x = new MutationObserver(function (mutations, observer) {{\n",
              "        var display = window.getComputedStyle(gd).display;\n",
              "        if (!display || display === 'none') {{\n",
              "            console.log([gd, 'removed!']);\n",
              "            Plotly.purge(gd);\n",
              "            observer.disconnect();\n",
              "        }}\n",
              "}});\n",
              "\n",
              "// Listen for the removal of the full notebook cells\n",
              "var notebookContainer = gd.closest('#notebook-container');\n",
              "if (notebookContainer) {{\n",
              "    x.observe(notebookContainer, {childList: true});\n",
              "}}\n",
              "\n",
              "// Listen for the clearing of the current output cell\n",
              "var outputEl = gd.closest('.output');\n",
              "if (outputEl) {{\n",
              "    x.observe(outputEl, {childList: true});\n",
              "}}\n",
              "\n",
              "                        })                };                            </script>        </div>\n",
              "</body>\n",
              "</html>"
            ]
          },
          "metadata": {}
        }
      ]
    },
    {
      "cell_type": "code",
      "source": [
        "NGROK_AUTHTOKEN = \"310Do004ERavHMI0lbX6VjKCKXo_2ER4gDSrQZZtTHxAYngM5\" # Substitua pelo seu token de autenticação ngrok\n",
        "ngrok.set_auth_token(NGROK_AUTHTOKEN) # Configura o token de autenticação ngrok"
      ],
      "metadata": {
        "id": "f_T2BLh8bwi8",
        "colab": {
          "base_uri": "https://localhost:8080/"
        },
        "outputId": "75e10aaf-d13e-44e8-d4b7-c8603309d9eb"
      },
      "execution_count": 15,
      "outputs": [
        {
          "output_type": "stream",
          "name": "stdout",
          "text": []
        }
      ]
    },
    {
      "cell_type": "code",
      "source": [
        "# Abrir túnel na porta 4050 (Spark UI)\n",
        "public_url = ngrok.connect(4050)\n",
        "print(f\"Spark UI disponível em: {public_url}\")"
      ],
      "metadata": {
        "id": "HHVQh4y_cB2A",
        "colab": {
          "base_uri": "https://localhost:8080/"
        },
        "outputId": "d4d287ea-9880-4c7c-b4bb-b9fbd903b1a2"
      },
      "execution_count": 16,
      "outputs": [
        {
          "output_type": "stream",
          "name": "stdout",
          "text": [
            "Spark UI disponível em: NgrokTunnel: \"https://67d35c67a9e9.ngrok-free.app\" -> \"http://localhost:4050\"\n"
          ]
        }
      ]
    }
  ]
}